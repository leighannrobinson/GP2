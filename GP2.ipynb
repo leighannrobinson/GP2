{
 "cells": [
  {
   "cell_type": "markdown",
   "id": "d581a821",
   "metadata": {},
   "source": [
    "# Programming Group Project 2\n",
    "## Caesar Cipher\n",
    "### Ben Griffis & Leighann Robinson\n",
    "#### CS 150-01"
   ]
  },
  {
   "cell_type": "code",
   "execution_count": null,
   "id": "a9001e91",
   "metadata": {},
   "outputs": [],
   "source": [
    "letters= \"ABCDEFGHIJKLMNOPQRSTUVWXYZABCDEFGHIJKLMNOPQRSTUVWXYZ\"\n",
    "\n",
    " \n",
    "\n",
    "encrypt=input(\"Do you want to encrypt a message? Press Enter to Start:\")\n",
    "\n",
    " \n",
    "\n",
    "while True:\n",
    "\n",
    "    stringtoencrypt=input(\"Please enter a word with A-Z characters to encrypt:\")\n",
    "\n",
    "    stringtoencrypt=stringtoencrypt.upper()\n",
    "\n",
    "    ciphershift=input(\"Please enter a number between 1 and 25 to be your cipher key: \")\n",
    "\n",
    "    ciphershift=int(ciphershift)\n",
    "\n",
    "    stringencrypted=\"\"\n",
    "\n",
    "    for character in stringtoencrypt:\n",
    "\n",
    "        position = letters.find(character)\n",
    "\n",
    "        newposition = position+ciphershift\n",
    "\n",
    "        if character in letters:\n",
    "\n",
    "            stringencrypted = stringencrypted + letters[newposition]\n",
    "\n",
    "        else:\n",
    "\n",
    "            stringencrypted = stringencrypted + character\n",
    "\n",
    "    ciphershift=str(ciphershift)\n",
    "\n",
    "    print(\"You used a cipher shift of \"+ciphershift)\n",
    "\n",
    "    print(\"Your encrypted message reads: \")\n",
    "\n",
    "    print(stringencrypted)\n",
    "\n",
    "   \n",
    "\n",
    "    repeat=input(\"Encrypt another message? (Y/N): \").lower()\n",
    "\n",
    "    while repeat !=\"n\" and repeat !=\"y\":\n",
    "\n",
    "        repeat=input(\"Invalid input, please try again: \").lower()\n",
    "\n",
    "       \n",
    "\n",
    "    if repeat==\"n\":\n",
    "\n",
    "        break"
   ]
  },
  {
   "cell_type": "code",
   "execution_count": null,
   "id": "e39e5b61",
   "metadata": {},
   "outputs": [],
   "source": []
  },
  {
   "cell_type": "code",
   "execution_count": null,
   "id": "cd427cc1",
   "metadata": {},
   "outputs": [],
   "source": []
  }
 ],
 "metadata": {
  "kernelspec": {
   "display_name": "Python 3 (ipykernel)",
   "language": "python",
   "name": "python3"
  },
  "language_info": {
   "codemirror_mode": {
    "name": "ipython",
    "version": 3
   },
   "file_extension": ".py",
   "mimetype": "text/x-python",
   "name": "python",
   "nbconvert_exporter": "python",
   "pygments_lexer": "ipython3",
   "version": "3.9.12"
  }
 },
 "nbformat": 4,
 "nbformat_minor": 5
}
